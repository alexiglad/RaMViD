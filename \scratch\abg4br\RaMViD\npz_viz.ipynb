{
 "cells": [
  {
   "cell_type": "code",
   "execution_count": null,
   "metadata": {},
   "outputs": [],
   "source": [
    "\n",
    "import numpy as np\n",
    "import matplotlib.pyplot as plt\n",
    "\n",
    "# Load the npz file\n",
    "data = np.load('logs/gt30x19x224x224x3.npz')\n",
    "\n",
    "# Access the array 'arr_0'\n",
    "images = data['arr_0']\n",
    "\n",
    "# Assuming the images are in a format that Matplotlib can handle,\n",
    "# you can display the first image as an example:\n",
    "num_images = images[0].shape[0]\n",
    "\n",
    "# Set up the subplots\n",
    "rows = int(np.ceil(num_images / 4))\n",
    "fig, axes = plt.subplots(rows, 4, figsize=(12, rows * 3))\n",
    "\n",
    "# Flatten axes array for easy iteration\n",
    "axes = axes.flatten()\n",
    "\n",
    "# Display each image\n",
    "for i in range(num_images):\n",
    "    axes[i].imshow(images[0][i])\n",
    "    axes[i].axis('off')  # Hide axis\n",
    "\n",
    "# Remove any unused subplots\n",
    "for j in range(i + 1, len(axes)):\n",
    "    fig.delaxes(axes[j])\n",
    "\n",
    "plt.tight_layout()\n",
    "plt.show()\n"
   ]
  }
 ],
 "metadata": {
  "language_info": {
   "name": "python"
  }
 },
 "nbformat": 4,
 "nbformat_minor": 2
}
